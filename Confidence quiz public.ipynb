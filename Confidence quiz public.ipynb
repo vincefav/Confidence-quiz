{
 "cells": [
  {
   "cell_type": "code",
   "execution_count": 3,
   "metadata": {
    "collapsed": false
   },
   "outputs": [
    {
     "name": "stdout",
     "output_type": "stream",
     "text": [
      "Populating the interactive namespace from numpy and matplotlib\n"
     ]
    }
   ],
   "source": [
    "import pandas as pd\n",
    "import numpy as np\n",
    "import seaborn as sns\n",
    "%pylab inline"
   ]
  },
  {
   "cell_type": "code",
   "execution_count": 4,
   "metadata": {
    "collapsed": false
   },
   "outputs": [
    {
     "data": {
      "text/plain": [
       "(20, 14)"
      ]
     },
     "execution_count": 4,
     "metadata": {},
     "output_type": "execute_result"
    }
   ],
   "source": [
    "data = pd.read_csv('responses.csv')\n",
    "\n",
    "data.shape"
   ]
  },
  {
   "cell_type": "code",
   "execution_count": 5,
   "metadata": {
    "collapsed": false
   },
   "outputs": [
    {
     "data": {
      "text/plain": [
       "<matplotlib.axes._subplots.AxesSubplot at 0x19e697e7d68>"
      ]
     },
     "execution_count": 5,
     "metadata": {},
     "output_type": "execute_result"
    },
    {
     "data": {
      "image/png": "[encoded data removed]",
      "text/plain": [
       "<matplotlib.figure.Figure at 0x19e697e74e0>"
      ]
     },
     "metadata": {},
     "output_type": "display_data"
    }
   ],
   "source": [
    "data[\"I've never done a quiz like this before. What did you think?\"] =\\\n",
    "data[\"I've never done a quiz like this before. What did you think?\"].str[0].astype(int)\n",
    "\n",
    "# Students liked it!\n",
    "data[\"I've never done a quiz like this before. What did you think?\"].hist(bins=4)"
   ]
  },
  {
   "cell_type": "code",
   "execution_count": 6,
   "metadata": {
    "collapsed": true
   },
   "outputs": [],
   "source": [
    "names = data['Last name, First Name']\n",
    "del data['Last name, First Name']\n",
    "del data[\"I've never done a quiz like this before. What did you think?\"]"
   ]
  },
  {
   "cell_type": "code",
   "execution_count": 7,
   "metadata": {
    "collapsed": false
   },
   "outputs": [
    {
     "data": {
      "text/plain": [
       "Index(['Extraverts tend to be happier than introverts.',\n",
       "       'Extraverts usually like to be in charge.',\n",
       "       'Conscientiousness measures how aware you are.',\n",
       "       'Conscientious people are more easily disgusted.',\n",
       "       'Neurotic people are more easily annoyed than emotionally stable people.',\n",
       "       'People low in agreeableness often struggle with addictions.',\n",
       "       'People low in neuroticism often have mental health problems.',\n",
       "       'Disagreeableness causes people to have heated, angry arguments with each other.',\n",
       "       'People high in openness tend to be more liberal politically.',\n",
       "       'People low in conscientiousness tend to be more conservative politically.',\n",
       "       'People high in openness are often considered \"weird\" by others.',\n",
       "       'Liberals and Democrats tend to score lower in extraversion than conservatives and Republicans.'],\n",
       "      dtype='object')"
      ]
     },
     "execution_count": 7,
     "metadata": {},
     "output_type": "execute_result"
    }
   ],
   "source": [
    "data.columns"
   ]
  },
  {
   "cell_type": "code",
   "execution_count": 8,
   "metadata": {
    "collapsed": true
   },
   "outputs": [],
   "source": [
    "answer_key = [1, 1, 0, 1, 1, 0, 0, 0, 1, 0, 1, 0]"
   ]
  },
  {
   "cell_type": "code",
   "execution_count": 9,
   "metadata": {
    "collapsed": false
   },
   "outputs": [
    {
     "data": {
      "text/html": [
       "<div>\n",
       "<style scoped>\n",
       "    .dataframe tbody tr th:only-of-type {\n",
       "        vertical-align: middle;\n",
       "    }\n",
       "\n",
       "    .dataframe tbody tr th {\n",
       "        vertical-align: top;\n",
       "    }\n",
       "\n",
       "    .dataframe thead th {\n",
       "        text-align: right;\n",
       "    }\n",
       "</style>\n",
       "<table border=\"1\" class=\"dataframe\">\n",
       "  <thead>\n",
       "    <tr style=\"text-align: right;\">\n",
       "      <th></th>\n",
       "      <th>Extraverts tend to be happier than introverts.</th>\n",
       "      <th>Extraverts usually like to be in charge.</th>\n",
       "      <th>Conscientiousness measures how aware you are.</th>\n",
       "      <th>Conscientious people are more easily disgusted.</th>\n",
       "      <th>Neurotic people are more easily annoyed than emotionally stable people.</th>\n",
       "      <th>People low in agreeableness often struggle with addictions.</th>\n",
       "      <th>People low in neuroticism often have mental health problems.</th>\n",
       "      <th>Disagreeableness causes people to have heated, angry arguments with each other.</th>\n",
       "      <th>People high in openness tend to be more liberal politically.</th>\n",
       "      <th>People low in conscientiousness tend to be more conservative politically.</th>\n",
       "      <th>People high in openness are often considered \"weird\" by others.</th>\n",
       "      <th>Liberals and Democrats tend to score lower in extraversion than conservatives and Republicans.</th>\n",
       "    </tr>\n",
       "  </thead>\n",
       "  <tbody>\n",
       "    <tr>\n",
       "      <th>0</th>\n",
       "      <td>0.333333</td>\n",
       "      <td>0.5</td>\n",
       "      <td>0.833333</td>\n",
       "      <td>1.0</td>\n",
       "      <td>0.833333</td>\n",
       "      <td>0.500000</td>\n",
       "      <td>0.166667</td>\n",
       "      <td>0.166667</td>\n",
       "      <td>1.000000</td>\n",
       "      <td>0.666667</td>\n",
       "      <td>1.000000</td>\n",
       "      <td>0.333333</td>\n",
       "    </tr>\n",
       "    <tr>\n",
       "      <th>1</th>\n",
       "      <td>0.666667</td>\n",
       "      <td>1.0</td>\n",
       "      <td>0.666667</td>\n",
       "      <td>1.0</td>\n",
       "      <td>0.666667</td>\n",
       "      <td>0.333333</td>\n",
       "      <td>0.500000</td>\n",
       "      <td>0.833333</td>\n",
       "      <td>0.333333</td>\n",
       "      <td>0.333333</td>\n",
       "      <td>0.833333</td>\n",
       "      <td>0.833333</td>\n",
       "    </tr>\n",
       "    <tr>\n",
       "      <th>2</th>\n",
       "      <td>0.333333</td>\n",
       "      <td>1.0</td>\n",
       "      <td>1.000000</td>\n",
       "      <td>1.0</td>\n",
       "      <td>1.000000</td>\n",
       "      <td>0.833333</td>\n",
       "      <td>0.166667</td>\n",
       "      <td>1.000000</td>\n",
       "      <td>1.000000</td>\n",
       "      <td>0.166667</td>\n",
       "      <td>1.000000</td>\n",
       "      <td>0.333333</td>\n",
       "    </tr>\n",
       "    <tr>\n",
       "      <th>3</th>\n",
       "      <td>1.000000</td>\n",
       "      <td>1.0</td>\n",
       "      <td>0.333333</td>\n",
       "      <td>1.0</td>\n",
       "      <td>0.833333</td>\n",
       "      <td>0.166667</td>\n",
       "      <td>0.000000</td>\n",
       "      <td>1.000000</td>\n",
       "      <td>1.000000</td>\n",
       "      <td>0.000000</td>\n",
       "      <td>1.000000</td>\n",
       "      <td>0.000000</td>\n",
       "    </tr>\n",
       "    <tr>\n",
       "      <th>4</th>\n",
       "      <td>1.000000</td>\n",
       "      <td>1.0</td>\n",
       "      <td>0.000000</td>\n",
       "      <td>1.0</td>\n",
       "      <td>1.000000</td>\n",
       "      <td>0.000000</td>\n",
       "      <td>0.000000</td>\n",
       "      <td>0.000000</td>\n",
       "      <td>1.000000</td>\n",
       "      <td>0.000000</td>\n",
       "      <td>1.000000</td>\n",
       "      <td>0.500000</td>\n",
       "    </tr>\n",
       "  </tbody>\n",
       "</table>\n",
       "</div>"
      ],
      "text/plain": [
       "   Extraverts tend to be happier than introverts.  \\\n",
       "0                                        0.333333   \n",
       "1                                        0.666667   \n",
       "2                                        0.333333   \n",
       "3                                        1.000000   \n",
       "4                                        1.000000   \n",
       "\n",
       "   Extraverts usually like to be in charge.  \\\n",
       "0                                       0.5   \n",
       "1                                       1.0   \n",
       "2                                       1.0   \n",
       "3                                       1.0   \n",
       "4                                       1.0   \n",
       "\n",
       "   Conscientiousness measures how aware you are.  \\\n",
       "0                                       0.833333   \n",
       "1                                       0.666667   \n",
       "2                                       1.000000   \n",
       "3                                       0.333333   \n",
       "4                                       0.000000   \n",
       "\n",
       "   Conscientious people are more easily disgusted.  \\\n",
       "0                                              1.0   \n",
       "1                                              1.0   \n",
       "2                                              1.0   \n",
       "3                                              1.0   \n",
       "4                                              1.0   \n",
       "\n",
       "   Neurotic people are more easily annoyed than emotionally stable people.  \\\n",
       "0                                           0.833333                         \n",
       "1                                           0.666667                         \n",
       "2                                           1.000000                         \n",
       "3                                           0.833333                         \n",
       "4                                           1.000000                         \n",
       "\n",
       "   People low in agreeableness often struggle with addictions.  \\\n",
       "0                                           0.500000             \n",
       "1                                           0.333333             \n",
       "2                                           0.833333             \n",
       "3                                           0.166667             \n",
       "4                                           0.000000             \n",
       "\n",
       "   People low in neuroticism often have mental health problems.  \\\n",
       "0                                           0.166667              \n",
       "1                                           0.500000              \n",
       "2                                           0.166667              \n",
       "3                                           0.000000              \n",
       "4                                           0.000000              \n",
       "\n",
       "   Disagreeableness causes people to have heated, angry arguments with each other.  \\\n",
       "0                                           0.166667                                 \n",
       "1                                           0.833333                                 \n",
       "2                                           1.000000                                 \n",
       "3                                           1.000000                                 \n",
       "4                                           0.000000                                 \n",
       "\n",
       "   People high in openness tend to be more liberal politically.  \\\n",
       "0                                           1.000000              \n",
       "1                                           0.333333              \n",
       "2                                           1.000000              \n",
       "3                                           1.000000              \n",
       "4                                           1.000000              \n",
       "\n",
       "   People low in conscientiousness tend to be more conservative politically.  \\\n",
       "0                                           0.666667                           \n",
       "1                                           0.333333                           \n",
       "2                                           0.166667                           \n",
       "3                                           0.000000                           \n",
       "4                                           0.000000                           \n",
       "\n",
       "   People high in openness are often considered \"weird\" by others.  \\\n",
       "0                                           1.000000                 \n",
       "1                                           0.833333                 \n",
       "2                                           1.000000                 \n",
       "3                                           1.000000                 \n",
       "4                                           1.000000                 \n",
       "\n",
       "   Liberals and Democrats tend to score lower in extraversion than conservatives and Republicans.  \n",
       "0                                           0.333333                                               \n",
       "1                                           0.833333                                               \n",
       "2                                           0.333333                                               \n",
       "3                                           0.000000                                               \n",
       "4                                           0.500000                                               "
      ]
     },
     "execution_count": 9,
     "metadata": {},
     "output_type": "execute_result"
    }
   ],
   "source": [
    "for i in data.columns:\n",
    "    data[i] = data[i].str[0].astype(int)\n",
    "    \n",
    "data = data.replace(1, 0/6)\n",
    "data = data.replace(2, 1/6)\n",
    "data = data.replace(3, 2/6)\n",
    "data = data.replace(4, 3/6)\n",
    "data = data.replace(5, 4/6)\n",
    "data = data.replace(6, 5/6)\n",
    "data = data.replace(7, 6/6)\n",
    "\n",
    "data.head()"
   ]
  },
  {
   "cell_type": "code",
   "execution_count": 10,
   "metadata": {
    "collapsed": false
   },
   "outputs": [
    {
     "data": {
      "text/plain": [
       "Conscientious people are more easily disgusted.                                                   0.026389\n",
       "People high in openness tend to be more liberal politically.                                      0.033333\n",
       "Neurotic people are more easily annoyed than emotionally stable people.                           0.038889\n",
       "Extraverts usually like to be in charge.                                                          0.066667\n",
       "People high in openness are often considered \"weird\" by others.                                   0.094444\n",
       "People low in neuroticism often have mental health problems.                                      0.113889\n",
       "People low in conscientiousness tend to be more conservative politically.                         0.212500\n",
       "Liberals and Democrats tend to score lower in extraversion than conservatives and Republicans.    0.234722\n",
       "People low in agreeableness often struggle with addictions.                                       0.238889\n",
       "Extraverts tend to be happier than introverts.                                                    0.375000\n",
       "Conscientiousness measures how aware you are.                                                     0.472222\n",
       "Disagreeableness causes people to have heated, angry arguments with each other.                   0.675000\n",
       "dtype: float64"
      ]
     },
     "execution_count": 10,
     "metadata": {},
     "output_type": "execute_result"
    }
   ],
   "source": [
    "((data - answer_key)**2).mean(axis=0).sort_values()"
   ]
  },
  {
   "cell_type": "code",
   "execution_count": 13,
   "metadata": {
    "collapsed": false
   },
   "outputs": [],
   "source": [
    "# Names removed for public notebook\n",
    "scores = pd.DataFrame(np.array((data - answer_key)**2).mean(axis=1)).sort_values(0)"
   ]
  },
  {
   "cell_type": "code",
   "execution_count": 14,
   "metadata": {
    "collapsed": false
   },
   "outputs": [
    {
     "data": {
      "text/html": [
       "<div>\n",
       "<style scoped>\n",
       "    .dataframe tbody tr th:only-of-type {\n",
       "        vertical-align: middle;\n",
       "    }\n",
       "\n",
       "    .dataframe tbody tr th {\n",
       "        vertical-align: top;\n",
       "    }\n",
       "\n",
       "    .dataframe thead th {\n",
       "        text-align: right;\n",
       "    }\n",
       "</style>\n",
       "<table border=\"1\" class=\"dataframe\">\n",
       "  <thead>\n",
       "    <tr style=\"text-align: right;\">\n",
       "      <th></th>\n",
       "      <th>0</th>\n",
       "    </tr>\n",
       "  </thead>\n",
       "  <tbody>\n",
       "    <tr>\n",
       "      <th>4</th>\n",
       "      <td>0.020833</td>\n",
       "    </tr>\n",
       "    <tr>\n",
       "      <th>11</th>\n",
       "      <td>0.053241</td>\n",
       "    </tr>\n",
       "    <tr>\n",
       "      <th>3</th>\n",
       "      <td>0.097222</td>\n",
       "    </tr>\n",
       "    <tr>\n",
       "      <th>5</th>\n",
       "      <td>0.113426</td>\n",
       "    </tr>\n",
       "    <tr>\n",
       "      <th>16</th>\n",
       "      <td>0.143519</td>\n",
       "    </tr>\n",
       "    <tr>\n",
       "      <th>7</th>\n",
       "      <td>0.150463</td>\n",
       "    </tr>\n",
       "    <tr>\n",
       "      <th>0</th>\n",
       "      <td>0.189815</td>\n",
       "    </tr>\n",
       "    <tr>\n",
       "      <th>13</th>\n",
       "      <td>0.189815</td>\n",
       "    </tr>\n",
       "    <tr>\n",
       "      <th>6</th>\n",
       "      <td>0.206019</td>\n",
       "    </tr>\n",
       "    <tr>\n",
       "      <th>15</th>\n",
       "      <td>0.215278</td>\n",
       "    </tr>\n",
       "    <tr>\n",
       "      <th>12</th>\n",
       "      <td>0.245370</td>\n",
       "    </tr>\n",
       "    <tr>\n",
       "      <th>14</th>\n",
       "      <td>0.247685</td>\n",
       "    </tr>\n",
       "    <tr>\n",
       "      <th>8</th>\n",
       "      <td>0.250000</td>\n",
       "    </tr>\n",
       "    <tr>\n",
       "      <th>1</th>\n",
       "      <td>0.250000</td>\n",
       "    </tr>\n",
       "    <tr>\n",
       "      <th>2</th>\n",
       "      <td>0.275463</td>\n",
       "    </tr>\n",
       "    <tr>\n",
       "      <th>9</th>\n",
       "      <td>0.284722</td>\n",
       "    </tr>\n",
       "    <tr>\n",
       "      <th>17</th>\n",
       "      <td>0.303241</td>\n",
       "    </tr>\n",
       "    <tr>\n",
       "      <th>19</th>\n",
       "      <td>0.307870</td>\n",
       "    </tr>\n",
       "    <tr>\n",
       "      <th>10</th>\n",
       "      <td>0.342593</td>\n",
       "    </tr>\n",
       "    <tr>\n",
       "      <th>18</th>\n",
       "      <td>0.416667</td>\n",
       "    </tr>\n",
       "  </tbody>\n",
       "</table>\n",
       "</div>"
      ],
      "text/plain": [
       "           0\n",
       "4   0.020833\n",
       "11  0.053241\n",
       "3   0.097222\n",
       "5   0.113426\n",
       "16  0.143519\n",
       "7   0.150463\n",
       "0   0.189815\n",
       "13  0.189815\n",
       "6   0.206019\n",
       "15  0.215278\n",
       "12  0.245370\n",
       "14  0.247685\n",
       "8   0.250000\n",
       "1   0.250000\n",
       "2   0.275463\n",
       "9   0.284722\n",
       "17  0.303241\n",
       "19  0.307870\n",
       "10  0.342593\n",
       "18  0.416667"
      ]
     },
     "execution_count": 14,
     "metadata": {},
     "output_type": "execute_result"
    }
   ],
   "source": [
    "scores"
   ]
  },
  {
   "cell_type": "code",
   "execution_count": 15,
   "metadata": {
    "collapsed": false
   },
   "outputs": [
    {
     "data": {
      "text/html": [
       "<div>\n",
       "<style scoped>\n",
       "    .dataframe tbody tr th:only-of-type {\n",
       "        vertical-align: middle;\n",
       "    }\n",
       "\n",
       "    .dataframe tbody tr th {\n",
       "        vertical-align: top;\n",
       "    }\n",
       "\n",
       "    .dataframe thead th {\n",
       "        text-align: right;\n",
       "    }\n",
       "</style>\n",
       "<table border=\"1\" class=\"dataframe\">\n",
       "  <thead>\n",
       "    <tr style=\"text-align: right;\">\n",
       "      <th></th>\n",
       "      <th>0</th>\n",
       "    </tr>\n",
       "  </thead>\n",
       "  <tbody>\n",
       "    <tr>\n",
       "      <th>4</th>\n",
       "      <td>0.979167</td>\n",
       "    </tr>\n",
       "    <tr>\n",
       "      <th>11</th>\n",
       "      <td>0.946759</td>\n",
       "    </tr>\n",
       "    <tr>\n",
       "      <th>3</th>\n",
       "      <td>0.902778</td>\n",
       "    </tr>\n",
       "    <tr>\n",
       "      <th>5</th>\n",
       "      <td>0.886574</td>\n",
       "    </tr>\n",
       "    <tr>\n",
       "      <th>16</th>\n",
       "      <td>0.856481</td>\n",
       "    </tr>\n",
       "    <tr>\n",
       "      <th>7</th>\n",
       "      <td>0.849537</td>\n",
       "    </tr>\n",
       "    <tr>\n",
       "      <th>0</th>\n",
       "      <td>0.810185</td>\n",
       "    </tr>\n",
       "    <tr>\n",
       "      <th>13</th>\n",
       "      <td>0.810185</td>\n",
       "    </tr>\n",
       "    <tr>\n",
       "      <th>6</th>\n",
       "      <td>0.793981</td>\n",
       "    </tr>\n",
       "    <tr>\n",
       "      <th>15</th>\n",
       "      <td>0.784722</td>\n",
       "    </tr>\n",
       "    <tr>\n",
       "      <th>12</th>\n",
       "      <td>0.754630</td>\n",
       "    </tr>\n",
       "    <tr>\n",
       "      <th>14</th>\n",
       "      <td>0.752315</td>\n",
       "    </tr>\n",
       "    <tr>\n",
       "      <th>8</th>\n",
       "      <td>0.750000</td>\n",
       "    </tr>\n",
       "    <tr>\n",
       "      <th>1</th>\n",
       "      <td>0.750000</td>\n",
       "    </tr>\n",
       "    <tr>\n",
       "      <th>2</th>\n",
       "      <td>0.724537</td>\n",
       "    </tr>\n",
       "    <tr>\n",
       "      <th>9</th>\n",
       "      <td>0.715278</td>\n",
       "    </tr>\n",
       "    <tr>\n",
       "      <th>17</th>\n",
       "      <td>0.696759</td>\n",
       "    </tr>\n",
       "    <tr>\n",
       "      <th>19</th>\n",
       "      <td>0.692130</td>\n",
       "    </tr>\n",
       "    <tr>\n",
       "      <th>10</th>\n",
       "      <td>0.657407</td>\n",
       "    </tr>\n",
       "    <tr>\n",
       "      <th>18</th>\n",
       "      <td>0.583333</td>\n",
       "    </tr>\n",
       "  </tbody>\n",
       "</table>\n",
       "</div>"
      ],
      "text/plain": [
       "           0\n",
       "4   0.979167\n",
       "11  0.946759\n",
       "3   0.902778\n",
       "5   0.886574\n",
       "16  0.856481\n",
       "7   0.849537\n",
       "0   0.810185\n",
       "13  0.810185\n",
       "6   0.793981\n",
       "15  0.784722\n",
       "12  0.754630\n",
       "14  0.752315\n",
       "8   0.750000\n",
       "1   0.750000\n",
       "2   0.724537\n",
       "9   0.715278\n",
       "17  0.696759\n",
       "19  0.692130\n",
       "10  0.657407\n",
       "18  0.583333"
      ]
     },
     "execution_count": 15,
     "metadata": {},
     "output_type": "execute_result"
    }
   ],
   "source": [
    "scores = 1 - scores\n",
    "\n",
    "scores"
   ]
  },
  {
   "cell_type": "code",
   "execution_count": 17,
   "metadata": {
    "collapsed": true
   },
   "outputs": [],
   "source": [
    "from sklearn.preprocessing import StandardScaler\n",
    "\n",
    "ss = StandardScaler()\n",
    "\n",
    "scores = ss.fit_transform(scores)"
   ]
  },
  {
   "cell_type": "code",
   "execution_count": 19,
   "metadata": {
    "collapsed": false
   },
   "outputs": [
    {
     "data": {
      "text/plain": [
       "array([[88.10273993],\n",
       "       [86.41794709],\n",
       "       [84.13144252],\n",
       "       [83.2890461 ],\n",
       "       [81.7245956 ],\n",
       "       [81.36356857],\n",
       "       [79.31774869],\n",
       "       [79.31774869],\n",
       "       [78.47535227],\n",
       "       [77.99398288],\n",
       "       [76.42953239],\n",
       "       [76.30919004],\n",
       "       [76.18884769],\n",
       "       [76.18884769],\n",
       "       [74.86508189],\n",
       "       [74.38371251],\n",
       "       [73.42097374],\n",
       "       [73.18028905],\n",
       "       [71.37515386],\n",
       "       [67.52419879]])"
      ]
     },
     "execution_count": 19,
     "metadata": {},
     "output_type": "execute_result"
    }
   ],
   "source": [
    "78 + (scores * 8)"
   ]
  },
  {
   "cell_type": "code",
   "execution_count": null,
   "metadata": {
    "collapsed": true
   },
   "outputs": [],
   "source": []
  }
 ],
 "metadata": {
  "kernelspec": {
   "display_name": "Python 3",
   "language": "python",
   "name": "python3"
  },
  "language_info": {
   "codemirror_mode": {
    "name": "ipython",
    "version": 3
   },
   "file_extension": ".py",
   "mimetype": "text/x-python",
   "name": "python",
   "nbconvert_exporter": "python",
   "pygments_lexer": "ipython3",
   "version": "3.6.0"
  }
 },
 "nbformat": 4,
 "nbformat_minor": 2
}
